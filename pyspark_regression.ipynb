{
  "nbformat": 4,
  "nbformat_minor": 0,
  "metadata": {
    "colab": {
      "name": "pyspark_regression.ipynb",
      "provenance": [],
      "collapsed_sections": []
    },
    "kernelspec": {
      "name": "python3",
      "display_name": "Python 3"
    },
    "language_info": {
      "name": "python"
    }
  },
  "cells": [
    {
      "cell_type": "markdown",
      "source": [
        "## Regression in PySpark\n",
        "- This notebook covers developing a machine learning model in `PySpark` environment.\n",
        "- Dataset used for analysis is [Sarah Gets a Diamond](http://store.darden.virginia.edu/sarah-gets-a-diamond) taken from University of Virginia, Darden Business Publishing. I have purposefully and randomly removed values from 30 rows for two different columns, so that different data transformation techniques in PySpark framework can be applied.\n",
        "- A regression model is developed on this dataset to calculate the price(Y variable) of a diamond based on its multiple physical attributes/features(X variables).\n",
        "- Different data transformations, data imputation techniques, data aggregation in PySpark environment are applied for cleaning, imputing, pre-processing, and extracting summary statistics on model development data.\n",
        "- Regression model developement and tuning is performed under PySpark framework."
      ],
      "metadata": {
        "id": "p9EjBplkdxjI"
      }
    },
    {
      "cell_type": "markdown",
      "source": [
        "### 1. Installing Spark and JDK files to run a spark session on local computer"
      ],
      "metadata": {
        "id": "MRlDDqQffYfd"
      }
    },
    {
      "cell_type": "code",
      "execution_count": null,
      "metadata": {
        "id": "k73CrdZeAw-f"
      },
      "outputs": [],
      "source": [
        "# !ls"
      ]
    },
    {
      "cell_type": "code",
      "source": [
        "# !apt-get update\n",
        "# !apt-get install openjdk-8-jdk-headless -qq > /dev/null\n",
        "# !wget -q http://archive.apache.org/dist/spark/spark-2.3.1/spark-2.3.1-bin-hadoop2.7.tgz\n",
        "# !tar xf spark-2.3.1-bin-hadoop2.7.tgz\n",
        "# !pip install -q findspark"
      ],
      "metadata": {
        "id": "LiaxG-iWA60Q"
      },
      "execution_count": null,
      "outputs": []
    },
    {
      "cell_type": "code",
      "source": [
        "# !ls"
      ],
      "metadata": {
        "id": "FTLnyrz4A7gG"
      },
      "execution_count": null,
      "outputs": []
    },
    {
      "cell_type": "code",
      "source": [
        "# importing necessary libraries to start a spark session\n",
        "\n",
        "import os\n",
        "os.environ[\"JAVA_HOME\"] = \"/usr/lib/jvm/java-8-openjdk-amd64\"\n",
        "os.environ[\"SPARK_HOME\"] = \"/content/spark-2.3.1-bin-hadoop2.7\"\n",
        "\n",
        "import findspark\n",
        "findspark.init()\n",
        "from pyspark import SparkContext\n",
        "sc = SparkContext.getOrCreate()\n",
        "\n",
        "import pyspark\n",
        "from pyspark.sql import SparkSession\n",
        "spark = SparkSession.builder.getOrCreate() \n",
        "spark"
      ],
      "metadata": {
        "id": "y2417159A-Z-",
        "colab": {
          "base_uri": "https://localhost:8080/",
          "height": 219
        },
        "outputId": "3b95d32d-ed7c-4327-b834-6b22a7b4aded"
      },
      "execution_count": null,
      "outputs": [
        {
          "output_type": "execute_result",
          "data": {
            "text/plain": [
              "<pyspark.sql.session.SparkSession at 0x7fde42c7a250>"
            ],
            "text/html": [
              "\n",
              "            <div>\n",
              "                <p><b>SparkSession - in-memory</b></p>\n",
              "                \n",
              "        <div>\n",
              "            <p><b>SparkContext</b></p>\n",
              "\n",
              "            <p><a href=\"http://d05ead68e3ce:4040\">Spark UI</a></p>\n",
              "\n",
              "            <dl>\n",
              "              <dt>Version</dt>\n",
              "                <dd><code>v2.3.1</code></dd>\n",
              "              <dt>Master</dt>\n",
              "                <dd><code>local[*]</code></dd>\n",
              "              <dt>AppName</dt>\n",
              "                <dd><code>pyspark-shell</code></dd>\n",
              "            </dl>\n",
              "        </div>\n",
              "        \n",
              "            </div>\n",
              "        "
            ]
          },
          "metadata": {},
          "execution_count": 4
        }
      ]
    },
    {
      "cell_type": "code",
      "source": [
        "# importing libraries necessary for data transformation, pre-processing, ml model developement etc\n",
        "\n",
        "import pandas as pd\n",
        "import numpy as np\n",
        "\n",
        "from pyspark.sql.functions import desc, isnan, when, count, col, countDistinct, regexp_replace\n",
        "from pyspark.ml.feature import Imputer, StringIndexer, OneHotEncoder, VectorAssembler\n",
        "from pyspark.ml.regression import GBTRegressor\n",
        "from pyspark.ml.tuning import CrossValidator, ParamGridBuilder\n",
        "from pyspark.ml.evaluation import RegressionEvaluator "
      ],
      "metadata": {
        "id": "mt-DTSSr6mnq"
      },
      "execution_count": null,
      "outputs": []
    },
    {
      "cell_type": "markdown",
      "source": [
        "### 2. Data import"
      ],
      "metadata": {
        "id": "xnAFfBWig7SV"
      }
    },
    {
      "cell_type": "code",
      "source": [
        "#importing model development data as a spark dataframe\n",
        "\n",
        "df = spark.read.csv('/content/RegData-Missing.csv', header=True, inferSchema=True)"
      ],
      "metadata": {
        "id": "LXCpY26rFXid"
      },
      "execution_count": null,
      "outputs": []
    },
    {
      "cell_type": "code",
      "source": [
        "print('Data Shape : {} Rows - {} Columns'.format((df.count()), (len(df.columns))))\n",
        "print('\\nTop 5 rows')\n",
        "print(df.show(5))\n",
        "print('\\nBottom 5 rows')\n",
        "print(df.orderBy(desc('ID')).show(5))"
      ],
      "metadata": {
        "colab": {
          "base_uri": "https://localhost:8080/"
        },
        "id": "hcPX75Q3GQUn",
        "outputId": "ae258bf4-9602-4959-dd1c-b8f172ce9306"
      },
      "execution_count": null,
      "outputs": [
        {
          "output_type": "stream",
          "name": "stdout",
          "text": [
            "Data Shape : 6000 Rows - 9 Columns\n",
            "\n",
            "Top 5 rows\n",
            "+---+------------+-----+-----+-------+------+--------+------+-----+\n",
            "| ID|Carat Weight|  Cut|Color|Clarity|Polish|Symmetry|Report|Price|\n",
            "+---+------------+-----+-----+-------+------+--------+------+-----+\n",
            "|  1|         1.1|Ideal|    H|    SI1|    VG|      EX|   GIA| 5169|\n",
            "|  2|        0.83|Ideal|    H|    VS1|    ID|      ID|  AGSL| 3470|\n",
            "|  3|        0.85|Ideal|    H|    SI1|    EX|      EX|   GIA| 3183|\n",
            "|  4|        0.91|Ideal|    E|    SI1|    VG|      VG|   GIA| 4370|\n",
            "|  5|        0.83|Ideal|    G|    SI1|    EX|      EX|   GIA| 3171|\n",
            "+---+------------+-----+-----+-------+------+--------+------+-----+\n",
            "only showing top 5 rows\n",
            "\n",
            "None\n",
            "\n",
            "Bottom 5 rows\n",
            "+----+------------+---------------+-----+-------+------+--------+------+-----+\n",
            "|  ID|Carat Weight|            Cut|Color|Clarity|Polish|Symmetry|Report|Price|\n",
            "+----+------------+---------------+-----+-------+------+--------+------+-----+\n",
            "|6000|        2.19|          Ideal|    E|    VS1|    EX|      EX|   GIA|30507|\n",
            "|5999|        1.27|Signature-Ideal|    G|    VS1|    EX|      EX|   GIA|11206|\n",
            "|5998|        1.02|          Ideal|    D|    SI1|    EX|      EX|   GIA| 6157|\n",
            "|5997|         1.0|      Very Good|    D|    SI1|    VG|      VG|   GIA| 5328|\n",
            "|5996|        1.03|          Ideal|    D|    SI1|    EX|      EX|   GIA| 6250|\n",
            "+----+------------+---------------+-----+-------+------+--------+------+-----+\n",
            "only showing top 5 rows\n",
            "\n",
            "None\n"
          ]
        }
      ]
    },
    {
      "cell_type": "code",
      "source": [
        "print('All columns in the dataset with their datatypes')\n",
        "print(df.dtypes)"
      ],
      "metadata": {
        "colab": {
          "base_uri": "https://localhost:8080/"
        },
        "id": "d4RwfB9AKcII",
        "outputId": "d218d933-dad7-48e8-8fd4-44aec7ecb2b7"
      },
      "execution_count": null,
      "outputs": [
        {
          "output_type": "stream",
          "name": "stdout",
          "text": [
            "All columns in the dataset with their datatypes\n",
            "[('ID', 'int'), ('Carat Weight', 'double'), ('Cut', 'string'), ('Color', 'string'), ('Clarity', 'string'), ('Polish', 'string'), ('Symmetry', 'string'), ('Report', 'string'), ('Price', 'int')]\n"
          ]
        }
      ]
    },
    {
      "cell_type": "code",
      "source": [
        "# replacing all the whitespaces with '_' in all the column names\n",
        "\n",
        "column_names = [column.replace(' ', '_') for column in df.columns]\n",
        "df = df.toDF(*column_names)\n",
        "print(df.show(2))"
      ],
      "metadata": {
        "colab": {
          "base_uri": "https://localhost:8080/"
        },
        "id": "oo_odoMrv35K",
        "outputId": "ed9b655f-1646-4e9f-b48a-a84403ddfb96"
      },
      "execution_count": null,
      "outputs": [
        {
          "output_type": "stream",
          "name": "stdout",
          "text": [
            "+---+------------+-----+-----+-------+------+--------+------+-----+\n",
            "| ID|Carat_Weight|  Cut|Color|Clarity|Polish|Symmetry|Report|Price|\n",
            "+---+------------+-----+-----+-------+------+--------+------+-----+\n",
            "|  1|         1.1|Ideal|    H|    SI1|    VG|      EX|   GIA| 5169|\n",
            "|  2|        0.83|Ideal|    H|    VS1|    ID|      ID|  AGSL| 3470|\n",
            "+---+------------+-----+-----+-------+------+--------+------+-----+\n",
            "only showing top 2 rows\n",
            "\n",
            "None\n"
          ]
        }
      ]
    },
    {
      "cell_type": "markdown",
      "source": [
        "### 3. Summary Statistics and Data Imputation on model development data"
      ],
      "metadata": {
        "id": "EApPNN2GhB6W"
      }
    },
    {
      "cell_type": "code",
      "source": [
        "# collecting all the numerical and categorical variables and saving them in two different lists\n",
        "\n",
        "categorical_variables = [item[0] for item in df.dtypes if item[1].startswith('string')]\n",
        "print('All categorical variables')\n",
        "print(categorical_variables)\n",
        "numerical_variables = [item[0] for item in df.dtypes if item[1].startswith('double') or item[1].startswith('int')]\n",
        "print('All numeric variables')\n",
        "print(numerical_variables)"
      ],
      "metadata": {
        "colab": {
          "base_uri": "https://localhost:8080/"
        },
        "id": "5jYbf3DuGaaF",
        "outputId": "2cbb9695-8a8f-474e-8433-47a182e74310"
      },
      "execution_count": null,
      "outputs": [
        {
          "output_type": "stream",
          "name": "stdout",
          "text": [
            "All categorical variables\n",
            "['Cut', 'Color', 'Clarity', 'Polish', 'Symmetry', 'Report']\n",
            "All numeric variables\n",
            "['ID', 'Carat_Weight', 'Price']\n"
          ]
        }
      ]
    },
    {
      "cell_type": "code",
      "source": [
        "# counting null/nan/missing values in all the columns\n",
        "\n",
        "dict_1 = dict(df.dtypes)\n",
        "df_info = pd.DataFrame(dict_1.items(), columns=['Column', 'DataType'])\n",
        "null_count = df.select([count(when(isnan(c) | col(c).isNull(), c)).alias(c) for c in df.columns]).toPandas()\n",
        "null_count = list(null_count.iloc[0,])\n",
        "df_info['NullCount'] = null_count\n",
        "print(df_info)"
      ],
      "metadata": {
        "colab": {
          "base_uri": "https://localhost:8080/"
        },
        "id": "qDytSbjkIDWV",
        "outputId": "9571f176-9142-451f-8253-77feff99b8bd"
      },
      "execution_count": null,
      "outputs": [
        {
          "output_type": "stream",
          "name": "stdout",
          "text": [
            "         Column DataType  NullCount\n",
            "0            ID      int          0\n",
            "1  Carat_Weight   double         30\n",
            "2           Cut   string          0\n",
            "3         Color   string          0\n",
            "4       Clarity   string          0\n",
            "5        Polish   string          0\n",
            "6      Symmetry   string         30\n",
            "7        Report   string          0\n",
            "8         Price      int          0\n"
          ]
        }
      ]
    },
    {
      "cell_type": "code",
      "source": [
        "# summary statistics on all the numerical columns\n",
        "\n",
        "print(df.select([column for column in numerical_variables if column != 'ID']).describe().show())"
      ],
      "metadata": {
        "id": "Jj44XW1RMqTs",
        "colab": {
          "base_uri": "https://localhost:8080/"
        },
        "outputId": "96a2c8ae-3e26-4263-d36f-2764a2abe1b0"
      },
      "execution_count": null,
      "outputs": [
        {
          "output_type": "stream",
          "name": "stdout",
          "text": [
            "+-------+------------------+------------------+\n",
            "|summary|      Carat_Weight|             Price|\n",
            "+-------+------------------+------------------+\n",
            "|  count|              5970|              6000|\n",
            "|   mean|1.3346180904522886|11791.579333333333|\n",
            "| stddev|0.4757117705068891|10184.350050741188|\n",
            "|    min|              0.75|              2184|\n",
            "|    max|              2.91|            101561|\n",
            "+-------+------------------+------------------+\n",
            "\n",
            "None\n"
          ]
        }
      ]
    },
    {
      "cell_type": "code",
      "source": [
        "# counting the number of different sub-levels for all the categorical columns\n",
        "\n",
        "print(df.agg(*(countDistinct(col(c)).alias(c) for c in categorical_variables)).show())"
      ],
      "metadata": {
        "colab": {
          "base_uri": "https://localhost:8080/"
        },
        "id": "Rk7nbw7Arysd",
        "outputId": "c9f5e4ae-529f-49a7-fe01-301dd9c6370c"
      },
      "execution_count": null,
      "outputs": [
        {
          "output_type": "stream",
          "name": "stdout",
          "text": [
            "+---+-----+-------+------+--------+------+\n",
            "|Cut|Color|Clarity|Polish|Symmetry|Report|\n",
            "+---+-----+-------+------+--------+------+\n",
            "|  5|    6|      7|     4|       4|     2|\n",
            "+---+-----+-------+------+--------+------+\n",
            "\n",
            "None\n"
          ]
        }
      ]
    },
    {
      "cell_type": "code",
      "source": [
        "# counting the frequency of each sub-level for all the categorical columns : null values identified\n",
        "\n",
        "for column in categorical_variables:\n",
        "  df.groupBy(column).count().orderBy('count').show()"
      ],
      "metadata": {
        "colab": {
          "base_uri": "https://localhost:8080/"
        },
        "id": "FSYtHg8asHdg",
        "outputId": "c453bc29-d78c-4f08-984e-7ae7843a5f48"
      },
      "execution_count": null,
      "outputs": [
        {
          "output_type": "stream",
          "name": "stdout",
          "text": [
            "+---------------+-----+\n",
            "|            Cut|count|\n",
            "+---------------+-----+\n",
            "|           Fair|  129|\n",
            "|Signature-Ideal|  253|\n",
            "|           Good|  708|\n",
            "|      Very Good| 2428|\n",
            "|          Ideal| 2482|\n",
            "+---------------+-----+\n",
            "\n",
            "+-----+-----+\n",
            "|Color|count|\n",
            "+-----+-----+\n",
            "|    D|  661|\n",
            "|    E|  778|\n",
            "|    I|  968|\n",
            "|    F| 1013|\n",
            "|    H| 1079|\n",
            "|    G| 1501|\n",
            "+-----+-----+\n",
            "\n",
            "+-------+-----+\n",
            "|Clarity|count|\n",
            "+-------+-----+\n",
            "|     FL|    4|\n",
            "|     IF|  219|\n",
            "|   VVS1|  285|\n",
            "|   VVS2|  666|\n",
            "|    VS1| 1192|\n",
            "|    VS2| 1575|\n",
            "|    SI1| 2059|\n",
            "+-------+-----+\n",
            "\n",
            "+------+-----+\n",
            "|Polish|count|\n",
            "+------+-----+\n",
            "|     G|  571|\n",
            "|    ID|  595|\n",
            "|    VG| 2409|\n",
            "|    EX| 2425|\n",
            "+------+-----+\n",
            "\n",
            "+--------+-----+\n",
            "|Symmetry|count|\n",
            "+--------+-----+\n",
            "|    null|   30|\n",
            "|      ID|  606|\n",
            "|       G|  915|\n",
            "|      EX| 2048|\n",
            "|      VG| 2401|\n",
            "+--------+-----+\n",
            "\n",
            "+------+-----+\n",
            "|Report|count|\n",
            "+------+-----+\n",
            "|  AGSL|  734|\n",
            "|   GIA| 5266|\n",
            "+------+-----+\n",
            "\n"
          ]
        }
      ]
    },
    {
      "cell_type": "code",
      "source": [
        "# replacing whitespace and hyphen characters in all the sub-level values for all the categorical variables \n",
        "\n",
        "for column in categorical_variables:\n",
        "  df = df.withColumn('{}'.format(column), regexp_replace('{}'.format(column), '[\\\\s-]', '_'))\n",
        "\n",
        "for column in categorical_variables:\n",
        "   df.select(column).distinct().show()"
      ],
      "metadata": {
        "colab": {
          "base_uri": "https://localhost:8080/"
        },
        "id": "II8Dufq-E4jy",
        "outputId": "a999491b-b7ef-44cb-c1fe-b695a47391fc"
      },
      "execution_count": null,
      "outputs": [
        {
          "output_type": "stream",
          "name": "stdout",
          "text": [
            "+---------------+\n",
            "|            Cut|\n",
            "+---------------+\n",
            "|      Very_Good|\n",
            "|Signature_Ideal|\n",
            "|          Ideal|\n",
            "|           Good|\n",
            "|           Fair|\n",
            "+---------------+\n",
            "\n",
            "+-----+\n",
            "|Color|\n",
            "+-----+\n",
            "|    F|\n",
            "|    E|\n",
            "|    D|\n",
            "|    G|\n",
            "|    I|\n",
            "|    H|\n",
            "+-----+\n",
            "\n",
            "+-------+\n",
            "|Clarity|\n",
            "+-------+\n",
            "|   VVS2|\n",
            "|    SI1|\n",
            "|     IF|\n",
            "|   VVS1|\n",
            "|    VS2|\n",
            "|    VS1|\n",
            "|     FL|\n",
            "+-------+\n",
            "\n",
            "+------+\n",
            "|Polish|\n",
            "+------+\n",
            "|    EX|\n",
            "|    VG|\n",
            "|    ID|\n",
            "|     G|\n",
            "+------+\n",
            "\n",
            "+--------+\n",
            "|Symmetry|\n",
            "+--------+\n",
            "|      EX|\n",
            "|      VG|\n",
            "|    null|\n",
            "|      ID|\n",
            "|       G|\n",
            "+--------+\n",
            "\n",
            "+------+\n",
            "|Report|\n",
            "+------+\n",
            "|   GIA|\n",
            "|  AGSL|\n",
            "+------+\n",
            "\n"
          ]
        }
      ]
    },
    {
      "cell_type": "code",
      "source": [
        "# checking all the rows where Carat_Weight value is missing\n",
        "\n",
        "print(df.filter(col('Carat_Weight').isNull()).show())"
      ],
      "metadata": {
        "colab": {
          "base_uri": "https://localhost:8080/"
        },
        "id": "clDcvstdsWfm",
        "outputId": "87ff32fa-392b-46a9-be5f-bf0a12b103e5"
      },
      "execution_count": null,
      "outputs": [
        {
          "output_type": "stream",
          "name": "stdout",
          "text": [
            "+----+------------+---------------+-----+-------+------+--------+------+-----+\n",
            "|  ID|Carat_Weight|            Cut|Color|Clarity|Polish|Symmetry|Report|Price|\n",
            "+----+------------+---------------+-----+-------+------+--------+------+-----+\n",
            "| 121|        null|           Good|    H|    SI1|    EX|      EX|   GIA| 4563|\n",
            "| 405|        null|           Good|    I|    SI1|    EX|       G|   GIA|15743|\n",
            "| 591|        null|           Fair|    D|    SI1|    EX|      EX|   GIA| 4537|\n",
            "| 640|        null|Signature_Ideal|    I|    SI1|    ID|      ID|  AGSL|11110|\n",
            "| 816|        null|      Very_Good|    H|    VS2|    EX|      VG|   GIA| 5571|\n",
            "| 878|        null|      Very_Good|    I|    SI1|     G|    null|   GIA| 4664|\n",
            "|1162|        null|      Very_Good|    I|    VS2|    VG|      VG|   GIA|15895|\n",
            "|1376|        null|      Very_Good|    I|    SI1|    VG|       G|   GIA|14819|\n",
            "|1395|        null|          Ideal|    F|    SI1|    EX|    null|   GIA| 4054|\n",
            "|1543|        null|          Ideal|    F|    VS2|    EX|      EX|   GIA|26365|\n",
            "|1951|        null|      Very_Good|    H|    SI1|     G|    null|   GIA| 3800|\n",
            "|2659|        null|           Good|    E|    VS1|    VG|       G|   GIA| 5356|\n",
            "|2703|        null|           Good|    F|    VS1|    VG|       G|   GIA| 6389|\n",
            "|2764|        null|      Very_Good|    D|   VVS2|    VG|    null|   GIA| 6682|\n",
            "|2787|        null|          Ideal|    G|    VS2|    VG|      VG|   GIA|27175|\n",
            "|2801|        null|          Ideal|    H|    SI1|    EX|    null|   GIA| 5418|\n",
            "|2854|        null|      Very_Good|    H|    SI1|    VG|      VG|   GIA|17427|\n",
            "|2956|        null|      Very_Good|    H|    SI1|    VG|    null|   GIA| 3629|\n",
            "|3225|        null|Signature_Ideal|    H|    SI1|    EX|      EX|   GIA| 3514|\n",
            "|3539|        null|      Very_Good|    I|    SI1|    EX|      EX|   GIA| 4759|\n",
            "+----+------------+---------------+-----+-------+------+--------+------+-----+\n",
            "only showing top 20 rows\n",
            "\n",
            "None\n"
          ]
        }
      ]
    },
    {
      "cell_type": "code",
      "source": [
        "# imputing the missing Carat_Weight rows using PySpark's Imputer functions\n",
        "df_impute = df\n",
        "imputer = Imputer(inputCols=['Carat_Weight'], outputCols=['Carat_Weight'])\n",
        "df_impute = imputer.fit(df).transform(df_impute)\n",
        "\n",
        "# checking all the rows where Carat_Weight value is missing : all missing values imputed\n",
        "print(df_impute.filter(col('Carat_Weight').isNull()).show())"
      ],
      "metadata": {
        "colab": {
          "base_uri": "https://localhost:8080/"
        },
        "id": "e65O2u9Is7dd",
        "outputId": "0336a7c7-b849-409c-a911-3c316c145d67"
      },
      "execution_count": null,
      "outputs": [
        {
          "output_type": "stream",
          "name": "stdout",
          "text": [
            "+---+------------+---+-----+-------+------+--------+------+-----+\n",
            "| ID|Carat_Weight|Cut|Color|Clarity|Polish|Symmetry|Report|Price|\n",
            "+---+------------+---+-----+-------+------+--------+------+-----+\n",
            "+---+------------+---+-----+-------+------+--------+------+-----+\n",
            "\n",
            "None\n"
          ]
        }
      ]
    },
    {
      "cell_type": "code",
      "source": [
        "# checking all the rows where Symmetry value is missing\n",
        "\n",
        "print(df_impute.filter(col('Symmetry').isNull()).show())"
      ],
      "metadata": {
        "colab": {
          "base_uri": "https://localhost:8080/"
        },
        "id": "wUh_E9nKFtv3",
        "outputId": "e13a317d-8d74-4224-db9a-952e3a8b0865"
      },
      "execution_count": null,
      "outputs": [
        {
          "output_type": "stream",
          "name": "stdout",
          "text": [
            "+----+------------------+---------+-----+-------+------+--------+------+-----+\n",
            "|  ID|      Carat_Weight|      Cut|Color|Clarity|Polish|Symmetry|Report|Price|\n",
            "+----+------------------+---------+-----+-------+------+--------+------+-----+\n",
            "|  71|              1.02|    Ideal|    G|    VS2|    EX|    null|   GIA| 6264|\n",
            "| 141|              2.04|    Ideal|    I|    SI1|    EX|    null|   GIA|16718|\n",
            "| 191|              1.02|Very_Good|    G|   VVS2|     G|    null|   GIA| 8013|\n",
            "| 244|              1.07|    Ideal|    F|     IF|    EX|    null|   GIA|11327|\n",
            "| 309|              1.15|    Ideal|    H|    SI1|    VG|    null|   GIA| 5529|\n",
            "| 878|1.3346180904522886|Very_Good|    I|    SI1|     G|    null|   GIA| 4664|\n",
            "| 975|              1.51|     Good|    F|   VVS2|    EX|    null|   GIA|17203|\n",
            "|1395|1.3346180904522886|    Ideal|    F|    SI1|    EX|    null|   GIA| 4054|\n",
            "|1951|1.3346180904522886|Very_Good|    H|    SI1|     G|    null|   GIA| 3800|\n",
            "|2252|               1.7|     Fair|    H|    VS2|    VG|    null|   GIA|11038|\n",
            "|2274|              1.26|Very_Good|    G|    VS2|    VG|    null|   GIA| 8040|\n",
            "|2764|1.3346180904522886|Very_Good|    D|   VVS2|    VG|    null|   GIA| 6682|\n",
            "|2782|              2.18|    Ideal|    F|    VS2|    EX|    null|   GIA|28348|\n",
            "|2801|1.3346180904522886|    Ideal|    H|    SI1|    EX|    null|   GIA| 5418|\n",
            "|2956|1.3346180904522886|Very_Good|    H|    SI1|    VG|    null|   GIA| 3629|\n",
            "|3491|              2.01|Very_Good|    D|    SI1|    VG|    null|   GIA|21440|\n",
            "|3526|               1.0|     Good|    F|    VS2|    EX|    null|   GIA| 5935|\n",
            "|3653|               1.0|     Good|    H|    SI1|    VG|    null|   GIA| 4276|\n",
            "|3840|              1.19|    Ideal|    F|   VVS2|    VG|    null|   GIA|10436|\n",
            "|4167|              2.22|    Ideal|    F|    VS1|    EX|    null|  AGSL|33721|\n",
            "+----+------------------+---------+-----+-------+------+--------+------+-----+\n",
            "only showing top 20 rows\n",
            "\n",
            "None\n"
          ]
        }
      ]
    },
    {
      "cell_type": "code",
      "source": [
        "# imputing all missing Symmetry values with mode Symmetry value : VG in this case\n",
        "\n",
        "temp_df= df_impute.groupBy('Symmetry').count()\n",
        "mode_variable = temp_df.orderBy(temp_df['count'].desc()).collect()[0][0]\n",
        "mode_count_value = temp_df.orderBy(temp_df['count'].desc()).collect()[0][1]\n",
        "print('Mode Value : {}\\n'.format(mode_variable), 'Mode Count : {}'.format(mode_count_value))\n",
        "df_impute = df_impute.fillna({'Symmetry':mode_variable})\n",
        "print(df_impute.filter(col('Symmetry').isNull()).show())"
      ],
      "metadata": {
        "colab": {
          "base_uri": "https://localhost:8080/"
        },
        "id": "iLkLqbSMuEV3",
        "outputId": "054c3a3b-23df-4236-f406-4ebbac7c8a67"
      },
      "execution_count": null,
      "outputs": [
        {
          "output_type": "stream",
          "name": "stdout",
          "text": [
            "Mode Value : VG\n",
            " Mode Count : 2401\n",
            "+---+------------+---+-----+-------+------+--------+------+-----+\n",
            "| ID|Carat_Weight|Cut|Color|Clarity|Polish|Symmetry|Report|Price|\n",
            "+---+------------+---+-----+-------+------+--------+------+-----+\n",
            "+---+------------+---+-----+-------+------+--------+------+-----+\n",
            "\n",
            "None\n"
          ]
        }
      ]
    },
    {
      "cell_type": "markdown",
      "source": [
        "### 4. One-Hot Encoding categorical variables"
      ],
      "metadata": {
        "id": "fpcPAzUfjQO-"
      }
    },
    {
      "cell_type": "code",
      "source": [
        "# creating numeric labels for categorical data using StringIndexer\n",
        "\n",
        "df_string_indexer = df_impute\n",
        "indexed_columns = [c+'_Index' for c in categorical_variables]\n",
        "\n",
        "for column, index in zip(categorical_variables, indexed_columns):\n",
        "  string_indexer = StringIndexer(inputCol=column, outputCol=index).fit(df_string_indexer)\n",
        "  df_string_indexer = string_indexer.transform(df_string_indexer)\n",
        "\n",
        "df_string_indexer.take(2)"
      ],
      "metadata": {
        "id": "iMbVyD5Svnzy",
        "colab": {
          "base_uri": "https://localhost:8080/"
        },
        "outputId": "e799bc9b-b428-47cc-fe27-55069affa9f4"
      },
      "execution_count": null,
      "outputs": [
        {
          "output_type": "execute_result",
          "data": {
            "text/plain": [
              "[Row(ID=1, Carat_Weight=1.1, Cut='Ideal', Color='H', Clarity='SI1', Polish='VG', Symmetry='EX', Report='GIA', Price=5169, Cut_Index=0.0, Color_Index=1.0, Clarity_Index=0.0, Polish_Index=1.0, Symmetry_Index=1.0, Report_Index=0.0),\n",
              " Row(ID=2, Carat_Weight=0.83, Cut='Ideal', Color='H', Clarity='VS1', Polish='ID', Symmetry='ID', Report='AGSL', Price=3470, Cut_Index=0.0, Color_Index=1.0, Clarity_Index=2.0, Polish_Index=2.0, Symmetry_Index=3.0, Report_Index=1.0)]"
            ]
          },
          "metadata": {},
          "execution_count": 20
        }
      ]
    },
    {
      "cell_type": "markdown",
      "source": [
        ""
      ],
      "metadata": {
        "id": "3R-VNcYzkakn"
      }
    },
    {
      "cell_type": "code",
      "source": [
        "# creating one hot encoded data using numeric labels for categorical data\n",
        "\n",
        "df_ohe = df_string_indexer\n",
        "ohe_columns = [c+'_classVec' for c in categorical_variables]\n",
        "\n",
        "for index, ohe_column in zip(indexed_columns, ohe_columns):\n",
        "  oh_encoder = OneHotEncoder(dropLast=True, inputCol=index, outputCol=ohe_column)\n",
        "  df_ohe = oh_encoder.transform(df_ohe)\n",
        "  \n",
        "df_ohe.take(2)"
      ],
      "metadata": {
        "colab": {
          "base_uri": "https://localhost:8080/"
        },
        "id": "Hu7gFC4huIn0",
        "outputId": "6beeb35d-dbe0-41b4-c175-64d09afefd5c"
      },
      "execution_count": null,
      "outputs": [
        {
          "output_type": "execute_result",
          "data": {
            "text/plain": [
              "[Row(ID=1, Carat_Weight=1.1, Cut='Ideal', Color='H', Clarity='SI1', Polish='VG', Symmetry='EX', Report='GIA', Price=5169, Cut_Index=0.0, Color_Index=1.0, Clarity_Index=0.0, Polish_Index=1.0, Symmetry_Index=1.0, Report_Index=0.0, Cut_classVec=SparseVector(4, {0: 1.0}), Color_classVec=SparseVector(5, {1: 1.0}), Clarity_classVec=SparseVector(6, {0: 1.0}), Polish_classVec=SparseVector(3, {1: 1.0}), Symmetry_classVec=SparseVector(3, {1: 1.0}), Report_classVec=SparseVector(1, {0: 1.0})),\n",
              " Row(ID=2, Carat_Weight=0.83, Cut='Ideal', Color='H', Clarity='VS1', Polish='ID', Symmetry='ID', Report='AGSL', Price=3470, Cut_Index=0.0, Color_Index=1.0, Clarity_Index=2.0, Polish_Index=2.0, Symmetry_Index=3.0, Report_Index=1.0, Cut_classVec=SparseVector(4, {0: 1.0}), Color_classVec=SparseVector(5, {1: 1.0}), Clarity_classVec=SparseVector(6, {2: 1.0}), Polish_classVec=SparseVector(3, {2: 1.0}), Symmetry_classVec=SparseVector(3, {}), Report_classVec=SparseVector(1, {}))]"
            ]
          },
          "metadata": {},
          "execution_count": 21
        }
      ]
    },
    {
      "cell_type": "code",
      "source": [
        "# Collecting all numerical and one-hot-encoded data as sparse vectors\n",
        "# Saving the results in column : features\n",
        "# Column 'features' serves as X variable, column 'Price' as target/Y variable\n",
        "\n",
        "model_inputs = ohe_columns + numerical_variables\n",
        "model_inputs.remove('ID')\n",
        "\n",
        "vector_assembler = VectorAssembler(inputCols=model_inputs, outputCol='features')\n",
        "df_model = vector_assembler.transform(df_ohe)\n",
        "df_model.take(2) "
      ],
      "metadata": {
        "colab": {
          "base_uri": "https://localhost:8080/"
        },
        "id": "ao_onI77vaLA",
        "outputId": "47e5bdd5-4b76-41d1-c2de-601337065639"
      },
      "execution_count": null,
      "outputs": [
        {
          "output_type": "execute_result",
          "data": {
            "text/plain": [
              "[Row(ID=1, Carat_Weight=1.1, Cut='Ideal', Color='H', Clarity='SI1', Polish='VG', Symmetry='EX', Report='GIA', Price=5169, Cut_Index=0.0, Color_Index=1.0, Clarity_Index=0.0, Polish_Index=1.0, Symmetry_Index=1.0, Report_Index=0.0, Cut_classVec=SparseVector(4, {0: 1.0}), Color_classVec=SparseVector(5, {1: 1.0}), Clarity_classVec=SparseVector(6, {0: 1.0}), Polish_classVec=SparseVector(3, {1: 1.0}), Symmetry_classVec=SparseVector(3, {1: 1.0}), Report_classVec=SparseVector(1, {0: 1.0}), features=SparseVector(24, {0: 1.0, 5: 1.0, 9: 1.0, 16: 1.0, 19: 1.0, 21: 1.0, 22: 1.1, 23: 5169.0})),\n",
              " Row(ID=2, Carat_Weight=0.83, Cut='Ideal', Color='H', Clarity='VS1', Polish='ID', Symmetry='ID', Report='AGSL', Price=3470, Cut_Index=0.0, Color_Index=1.0, Clarity_Index=2.0, Polish_Index=2.0, Symmetry_Index=3.0, Report_Index=1.0, Cut_classVec=SparseVector(4, {0: 1.0}), Color_classVec=SparseVector(5, {1: 1.0}), Clarity_classVec=SparseVector(6, {2: 1.0}), Polish_classVec=SparseVector(3, {2: 1.0}), Symmetry_classVec=SparseVector(3, {}), Report_classVec=SparseVector(1, {}), features=SparseVector(24, {0: 1.0, 5: 1.0, 11: 1.0, 17: 1.0, 22: 0.83, 23: 3470.0}))]"
            ]
          },
          "metadata": {},
          "execution_count": 22
        }
      ]
    },
    {
      "cell_type": "markdown",
      "source": [
        "### 5. Model Developement"
      ],
      "metadata": {
        "id": "ZhOp5avkklxb"
      }
    },
    {
      "cell_type": "code",
      "source": [
        "# Splitting model development data into train-test data\n",
        "\n",
        "df_train, df_test = df_model.randomSplit([0.8, 0.2], seed=21)\n",
        "df_train.count(), df_test.count()"
      ],
      "metadata": {
        "colab": {
          "base_uri": "https://localhost:8080/"
        },
        "id": "C0S8zZEUxv9-",
        "outputId": "34bc0265-6887-4658-db68-dc80722c07fd"
      },
      "execution_count": null,
      "outputs": [
        {
          "output_type": "execute_result",
          "data": {
            "text/plain": [
              "(4821, 1179)"
            ]
          },
          "metadata": {},
          "execution_count": 23
        }
      ]
    },
    {
      "cell_type": "code",
      "source": [
        "# fitting base Gradient Boosting regressor model\n",
        "gbt = GBTRegressor(labelCol='Price')\n",
        "gbt_evaluator = RegressionEvaluator(metricName='mae', labelCol='Price',  predictionCol='prediction')\n",
        "gbt_model = gbt.fit(df_train)\n",
        "\n",
        "# making model predictions on test-data\n",
        "gbt_predictions = gbt_model.transform(df_test)\n",
        "gbt_predictions.select('ID', 'features', 'Price', 'prediction').take(3)"
      ],
      "metadata": {
        "colab": {
          "base_uri": "https://localhost:8080/"
        },
        "id": "D865JZ09yn8d",
        "outputId": "d929a1ff-d5b9-48f9-d7e3-626ff2ca255f"
      },
      "execution_count": null,
      "outputs": [
        {
          "output_type": "execute_result",
          "data": {
            "text/plain": [
              "[Row(ID=2, features=SparseVector(24, {0: 1.0, 5: 1.0, 11: 1.0, 17: 1.0, 22: 0.83, 23: 3470.0}), Price=3470, prediction=3252.8526907974706),\n",
              " Row(ID=8, features=SparseVector(24, {6: 1.0, 9: 1.0, 16: 1.0, 18: 1.0, 21: 1.0, 22: 1.5, 23: 10450.0}), Price=10450, prediction=10714.605063965304),\n",
              " Row(ID=9, features=SparseVector(24, {0: 1.0, 5: 1.0, 9: 1.0, 16: 1.0, 18: 1.0, 21: 1.0, 22: 2.11, 23: 18609.0}), Price=18609, prediction=17847.173270856776)]"
            ]
          },
          "metadata": {},
          "execution_count": 24
        }
      ]
    },
    {
      "cell_type": "code",
      "source": [
        "# evaluating model predictions on test-data using Mean Absolute Error metric\n",
        "mae = round((gbt_evaluator.evaluate(gbt_predictions)),2)\n",
        "print('Test MAE = {}'.format(mae))"
      ],
      "metadata": {
        "colab": {
          "base_uri": "https://localhost:8080/"
        },
        "id": "wz4qnuQSBwcp",
        "outputId": "3cd0df3d-f211-472c-e374-1251c607ec6c"
      },
      "execution_count": null,
      "outputs": [
        {
          "output_type": "stream",
          "name": "stdout",
          "text": [
            "Test MAE = 452.33\n"
          ]
        }
      ]
    },
    {
      "cell_type": "markdown",
      "source": [
        "### 6. Hyperparameter Tuning"
      ],
      "metadata": {
        "id": "UpLL8oeOligt"
      }
    },
    {
      "cell_type": "code",
      "source": [
        "# defining model hyperparameter grid\n",
        "parameter_grid = (ParamGridBuilder()\n",
        "                  .addGrid(gbt.maxDepth, [3,4,5,6])\n",
        "                  .addGrid(gbt.maxIter, [10, 20])\n",
        "                  .build())\n",
        "\n",
        "# defining MAE as metric to evaluate model performance\n",
        "gbt_evaluator = RegressionEvaluator(metricName='mae', labelCol=gbt.getLabelCol(),\n",
        "                                    predictionCol=gbt.getPredictionCol())\n",
        "cv = CrossValidator(estimator=gbt, evaluator=gbt_evaluator,\n",
        "                    estimatorParamMaps=parameter_grid, numFolds=3, parallelism = 4)\n",
        "\n",
        "# fitting model on train data and calculating predictions on test data\n",
        "gbt_cv_model = cv.fit(df_train)\n",
        "gbt_cv_predictions = gbt_cv_model.transform(df_test)\n",
        "gbt_cv_predictions.select('ID', 'features', 'Price', 'prediction').take(3)"
      ],
      "metadata": {
        "colab": {
          "base_uri": "https://localhost:8080/"
        },
        "id": "HYh9IAWk0JYU",
        "outputId": "6c44659f-9e7f-42a4-8bdf-ea0216b392db"
      },
      "execution_count": null,
      "outputs": [
        {
          "output_type": "execute_result",
          "data": {
            "text/plain": [
              "[Row(ID=2, features=SparseVector(24, {0: 1.0, 5: 1.0, 11: 1.0, 17: 1.0, 22: 0.83, 23: 3470.0}), Price=3470, prediction=3327.4049558629195),\n",
              " Row(ID=8, features=SparseVector(24, {6: 1.0, 9: 1.0, 16: 1.0, 18: 1.0, 21: 1.0, 22: 1.5, 23: 10450.0}), Price=10450, prediction=10710.636207282394),\n",
              " Row(ID=9, features=SparseVector(24, {0: 1.0, 5: 1.0, 9: 1.0, 16: 1.0, 18: 1.0, 21: 1.0, 22: 2.11, 23: 18609.0}), Price=18609, prediction=17684.093385105298)]"
            ]
          },
          "metadata": {},
          "execution_count": 26
        }
      ]
    },
    {
      "cell_type": "code",
      "source": [
        "# evaluating performance of tuned Random Forest model\n",
        "mae = round((gbt_evaluator.evaluate(gbt_cv_predictions)),2)\n",
        "print('Test MAE = {}'.format(mae))"
      ],
      "metadata": {
        "colab": {
          "base_uri": "https://localhost:8080/"
        },
        "id": "psIExEG5FV2j",
        "outputId": "1abad323-26c7-4377-c3cc-0316d8033d95"
      },
      "execution_count": null,
      "outputs": [
        {
          "output_type": "stream",
          "name": "stdout",
          "text": [
            "Test MAE = 416.0\n"
          ]
        }
      ]
    }
  ]
}